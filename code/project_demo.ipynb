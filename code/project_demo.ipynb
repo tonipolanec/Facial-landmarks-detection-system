{
 "cells": [
  {
   "attachments": {},
   "cell_type": "markdown",
   "metadata": {},
   "source": [
    "# SUSTAV ZA DETEKCIJU KARAKTERISTIČNIH TOČAKA LICA - demo\n",
    "\n",
    "Pokreće se izvršavanjem svih ćelija u ovom notebook-u.  \n",
    "Dodatno se može zadnja ćelija pokrenuti više puta kako bi se prikazao **rad sustava na različitim slikama**. \n",
    "\n",
    "Potrebno je u direktoriju imati model ***model_demo.h5***.\n",
    "  \n",
    "#### Toni Polanec 2023.\n"
   ]
  },
  {
   "cell_type": "code",
   "execution_count": null,
   "metadata": {},
   "outputs": [],
   "source": [
    "\n",
    "import random\n",
    "import matplotlib.pyplot as plt\n",
    "from sklearn.model_selection import train_test_split\n",
    "import pandas as pd\n",
    "import numpy as np\n",
    "from keras.models import load_model\n",
    "import pickle"
   ]
  },
  {
   "attachments": {},
   "cell_type": "markdown",
   "metadata": {},
   "source": [
    "### Korištene metode:"
   ]
  },
  {
   "cell_type": "code",
   "execution_count": null,
   "metadata": {},
   "outputs": [],
   "source": [
    "def plot_mult_images(image_array, landmarks, rows = 3, cols = 3):\n",
    "    default_pics = [random.randint(0, len(image_array)) for i in range(rows*cols)]\n",
    "    index = 0\n",
    "\n",
    "    fig, ax = plt.subplots(rows,cols,sharex=True,sharey=True,figsize=[cols*2,rows*2])\n",
    "    for row in range(rows):\n",
    "        for col in range(cols):\n",
    "            ax[row,col].imshow(image_array[default_pics[index]], cmap='gray')\n",
    "            ax[row,col].scatter(landmarks.iloc[default_pics[index],0::2], landmarks.iloc[default_pics[index],1::2], c=\"#0f0\", marker='+')\n",
    "            ax[row,col].set_xticks(())\n",
    "            ax[row,col].set_yticks(())\n",
    "            ax[row,col].set_title('image index = %d' %(default_pics[index]),fontsize=10)\n",
    "            index += 1\n",
    "\n",
    "def show_train_history(history, y_limit=None):\n",
    "    plt.figure(figsize=[12,6])\n",
    "    plt.plot(history['loss'],'b',linewidth=2.0)\n",
    "    plt.plot(history['val_loss'],'r',linewidth=2.0)\n",
    "    plt.legend(['Training loss', 'Validation Loss'], fontsize=14)\n",
    "    if y_limit:\n",
    "        plt.ylim(0, y_limit)\n",
    "    plt.xlabel('Epochs ',fontsize=14)\n",
    "    plt.ylabel('Loss',fontsize=14)\n",
    "    plt.title('Loss Curves',fontsize=14)\n",
    "    plt.show()\n",
    "\n",
    "\n",
    "def plot_predicted_image(images, truth, prediction, index):\n",
    "    print(index, \"->\" , prediction[index])\n",
    "    plt.imshow(images[index], cmap='gray')\n",
    "    plt.scatter(truth.iloc[index, 0::2], truth.iloc[index, 1::2], c=\"#0f0\", marker='P')\n",
    "    plt.scatter(prediction[index, 0::2], prediction[index, 1::2], c=\"#f00\", marker='P')\n",
    "    plt.legend([\"Truth\",\"Prediction\"])\n",
    "    plt.show()\n",
    "    \n",
    "\n",
    "def plot_predicted_images(images, truth, prediction, with_truth=False):\n",
    "\n",
    "    indexes = [random.randint(0, len(images))-1 for i in range(9)]\n",
    "\n",
    "    rows = 3\n",
    "    cols = 3\n",
    "\n",
    "    arr_i = 0\n",
    "    fig, ax = plt.subplots(rows,cols,sharex=True,sharey=True,figsize=[cols*2,rows*2])\n",
    "    for row in range(rows):\n",
    "        for col in range(cols):\n",
    "            index = indexes[arr_i]\n",
    "            ax[row,col].imshow(images[index], cmap='gray')\n",
    "            if with_truth:\n",
    "                ax[row,col].scatter(truth.iloc[index, 0::2], truth.iloc[index, 1::2], c=\"#0f0\", marker='+')\n",
    "            ax[row,col].scatter(prediction[index, 0::2], prediction[index, 1::2], c=\"#f00\", marker='+')\n",
    "            ax[row,col].set_title('image index = %d' %(index),fontsize=10)\n",
    "            arr_i += 1"
   ]
  },
  {
   "attachments": {},
   "cell_type": "markdown",
   "metadata": {},
   "source": [
    "### Priprema podataka:"
   ]
  },
  {
   "cell_type": "code",
   "execution_count": null,
   "metadata": {},
   "outputs": [],
   "source": [
    "# učitanje slika\n",
    "face_images = np.load('face_images.npz')\n",
    "faces=face_images.get(face_images.files[0]) \n",
    "# oblikovanje polja\n",
    "faces=np.moveaxis(faces,-1,0)\n",
    "faces=faces.reshape(faces.shape[0],faces.shape[1],faces.shape[1],1)\n",
    "\n",
    "\n",
    "landmarks = pd.read_csv('facial_keypoints.csv')\n",
    "# brisanje podataka o obrvama i ustima (osim bottom_lip_center)\n",
    "landmarks = landmarks.drop(['left_eyebrow_inner_end_x', 'left_eyebrow_inner_end_y', 'left_eyebrow_outer_end_x', 'left_eyebrow_outer_end_y', 'right_eyebrow_inner_end_x', 'right_eyebrow_inner_end_y', 'right_eyebrow_outer_end_x', 'right_eyebrow_outer_end_y', 'mouth_left_corner_x', 'mouth_left_corner_y', 'mouth_right_corner_x', 'mouth_right_corner_y'], axis=1)\n",
    "\n",
    "# brisanje slika koje nemaju sve točke a malo ih je\n",
    "empty_rows = landmarks[['left_eye_center_x', 'left_eye_center_y', 'right_eye_center_x', 'right_eye_center_y', 'mouth_center_bottom_lip_x', 'mouth_center_bottom_lip_y']].isnull().any(axis=1)\n",
    "null_indexes = landmarks[empty_rows].index\n",
    "\n",
    "# brisanje slika koje imaju te određene točke s null vrijednostima\n",
    "faces = np.delete(faces, null_indexes, axis=0)\n",
    "landmarks = landmarks.dropna(subset=['left_eye_center_x', 'left_eye_center_y', 'right_eye_center_x', 'right_eye_center_y', 'mouth_center_bottom_lip_x', 'mouth_center_bottom_lip_y'], how='any')\n",
    "\n",
    "# imputacija \n",
    "landmarks_null = landmarks[landmarks.isnull().any(axis=1)]\n",
    "landmarks_not_null = landmarks.dropna()\n",
    "not_null_size = landmarks_not_null.shape[0]\n",
    "\n",
    "left_eye_inner_corner_x_avg_diff = (landmarks_not_null['left_eye_inner_corner_x'].values - landmarks_not_null['left_eye_center_x'].values).sum() / not_null_size\n",
    "left_eye_inner_corner_y_avg_diff = (landmarks_not_null['left_eye_inner_corner_y'].values - landmarks_not_null['left_eye_center_y'].values).sum() / not_null_size\n",
    "\n",
    "left_eye_outer_corner_x_avg_diff = (landmarks_not_null['left_eye_outer_corner_x'].values - landmarks_not_null['left_eye_center_x'].values).sum() / not_null_size\n",
    "left_eye_outer_corner_y_avg_diff = (landmarks_not_null['left_eye_outer_corner_y'].values - landmarks_not_null['left_eye_center_y'].values).sum() / not_null_size\n",
    "\n",
    "right_eye_inner_corner_x_avg_diff = (landmarks_not_null['right_eye_inner_corner_x'].values - landmarks_not_null['right_eye_center_x'].values).sum() / not_null_size\n",
    "right_eye_inner_corner_y_avg_diff = (landmarks_not_null['right_eye_inner_corner_y'].values - landmarks_not_null['right_eye_center_y'].values).sum() / not_null_size\n",
    "\n",
    "right_eye_outer_corner_x_avg_diff = (landmarks_not_null['right_eye_outer_corner_x'].values - landmarks_not_null['right_eye_center_x'].values).sum() / not_null_size\n",
    "right_eye_outer_corner_y_avg_diff = (landmarks_not_null['right_eye_outer_corner_y'].values - landmarks_not_null['right_eye_center_y'].values).sum() / not_null_size\n",
    "\n",
    "mouth_center_top_lip_x_avg_diff = (landmarks_not_null['mouth_center_top_lip_x'].values - landmarks_not_null['mouth_center_bottom_lip_x'].values).sum() / not_null_size\n",
    "mouth_center_top_lip_y_avg_diff = (landmarks_not_null['mouth_center_top_lip_y'].values - landmarks_not_null['mouth_center_bottom_lip_y'].values).sum() / not_null_size\n",
    "\n",
    "landmarks['left_eye_inner_corner_x'] = landmarks['left_eye_inner_corner_x'].fillna(landmarks['left_eye_center_x'] + left_eye_inner_corner_x_avg_diff)\n",
    "landmarks['left_eye_inner_corner_y'] = landmarks['left_eye_inner_corner_y'].fillna(landmarks['left_eye_center_y'] + left_eye_inner_corner_y_avg_diff)\n",
    "\n",
    "landmarks['left_eye_outer_corner_x'] = landmarks['left_eye_outer_corner_x'].fillna(landmarks['left_eye_center_x'] + left_eye_outer_corner_x_avg_diff)\n",
    "landmarks['left_eye_outer_corner_y'] = landmarks['left_eye_outer_corner_y'].fillna(landmarks['left_eye_center_y'] + left_eye_outer_corner_y_avg_diff)\n",
    "\n",
    "landmarks['right_eye_inner_corner_x'] = landmarks['right_eye_inner_corner_x'].fillna(landmarks['right_eye_center_x'] + right_eye_inner_corner_x_avg_diff)\n",
    "landmarks['right_eye_inner_corner_y'] = landmarks['right_eye_inner_corner_y'].fillna(landmarks['right_eye_center_y'] + right_eye_inner_corner_y_avg_diff)\n",
    "\n",
    "landmarks['right_eye_outer_corner_x'] = landmarks['right_eye_outer_corner_x'].fillna(landmarks['right_eye_center_x'] + right_eye_outer_corner_x_avg_diff)\n",
    "landmarks['right_eye_outer_corner_y'] = landmarks['right_eye_outer_corner_y'].fillna(landmarks['right_eye_center_y'] + right_eye_outer_corner_y_avg_diff)\n",
    "\n",
    "landmarks['mouth_center_top_lip_x'] = landmarks['mouth_center_top_lip_x'].fillna(landmarks['mouth_center_bottom_lip_x'] + mouth_center_top_lip_x_avg_diff)\n",
    "landmarks['mouth_center_top_lip_y'] = landmarks['mouth_center_top_lip_y'].fillna(landmarks['mouth_center_bottom_lip_y'] + mouth_center_top_lip_y_avg_diff)\n",
    "\n",
    "# normalizacija\n",
    "faces = faces/255\n",
    "\n",
    "# podjela na train i test\n",
    "train_x,test_x,train_y,test_y = train_test_split(faces, landmarks, test_size=0.2, random_state=42)\n"
   ]
  },
  {
   "attachments": {},
   "cell_type": "markdown",
   "metadata": {},
   "source": [
    "### Vizualizacija podataka:  \n",
    "Više puta pokrenuti za prikaz različitih slika."
   ]
  },
  {
   "cell_type": "code",
   "execution_count": null,
   "metadata": {},
   "outputs": [],
   "source": [
    "plot_mult_images(faces, landmarks)"
   ]
  },
  {
   "attachments": {},
   "cell_type": "markdown",
   "metadata": {},
   "source": [
    "### Učitavanje modela:"
   ]
  },
  {
   "cell_type": "code",
   "execution_count": null,
   "metadata": {},
   "outputs": [],
   "source": [
    "model = load_model('model_demo.h5')\n",
    "with open('history_demo', 'rb') as file_pi:\n",
    "    history = pickle.load(file_pi)"
   ]
  },
  {
   "cell_type": "code",
   "execution_count": null,
   "metadata": {},
   "outputs": [],
   "source": [
    "print(\"Evaluacija modela: \")\n",
    "model.evaluate(test_x, test_y)\n",
    "print(\"Predikcija: \")\n",
    "y_pred = model.predict(test_x)\n",
    "\n",
    "show_train_history(history, y_limit=300)"
   ]
  },
  {
   "attachments": {},
   "cell_type": "markdown",
   "metadata": {},
   "source": [
    "### Prikaz rezultata:"
   ]
  },
  {
   "cell_type": "code",
   "execution_count": null,
   "metadata": {},
   "outputs": [],
   "source": [
    "'''\n",
    "with_truth \n",
    "    True - prikazuje slike sa predviđenim i stvarnim točkama\n",
    "    False - prikazuje slike samo sa predviđenim točkama\n",
    "\n",
    "random_indexes\n",
    "    True - prikazuje nasumične slike\n",
    "    False - prikazuje od prije odabrane slike\n",
    "\n",
    "zeleni +  stvarne točke \n",
    "crveni +  predikcija modela\n",
    "'''\n",
    "\n",
    "plot_predicted_images(test_x, test_y, y_pred, with_truth=True)"
   ]
  }
 ],
 "metadata": {
  "kernelspec": {
   "display_name": "Python 3",
   "language": "python",
   "name": "python3"
  },
  "language_info": {
   "codemirror_mode": {
    "name": "ipython",
    "version": 3
   },
   "file_extension": ".py",
   "mimetype": "text/x-python",
   "name": "python",
   "nbconvert_exporter": "python",
   "pygments_lexer": "ipython3",
   "version": "3.10.4"
  },
  "orig_nbformat": 4
 },
 "nbformat": 4,
 "nbformat_minor": 2
}
